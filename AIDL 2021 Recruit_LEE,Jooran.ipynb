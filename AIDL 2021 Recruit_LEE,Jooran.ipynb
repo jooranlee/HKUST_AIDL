{
 "cells": [
  {
   "cell_type": "code",
   "execution_count": 315,
   "metadata": {},
   "outputs": [],
   "source": [
    "#import libraries\n",
    "import pandas as pd\n",
    "import numpy as np\n",
    "import matplotlib as plt\n",
    "import seaborn as sns"
   ]
  },
  {
   "cell_type": "code",
   "execution_count": 316,
   "metadata": {},
   "outputs": [
    {
     "data": {
      "text/html": [
       "<div>\n",
       "<style scoped>\n",
       "    .dataframe tbody tr th:only-of-type {\n",
       "        vertical-align: middle;\n",
       "    }\n",
       "\n",
       "    .dataframe tbody tr th {\n",
       "        vertical-align: top;\n",
       "    }\n",
       "\n",
       "    .dataframe thead th {\n",
       "        text-align: right;\n",
       "    }\n",
       "</style>\n",
       "<table border=\"1\" class=\"dataframe\">\n",
       "  <thead>\n",
       "    <tr style=\"text-align: right;\">\n",
       "      <th></th>\n",
       "      <th>Channel</th>\n",
       "      <th>Watch time(Minutes)</th>\n",
       "      <th>Stream time(minutes)</th>\n",
       "      <th>Peak viewers</th>\n",
       "      <th>Average viewers</th>\n",
       "      <th>Followers</th>\n",
       "      <th>Followers gained</th>\n",
       "      <th>Views gained</th>\n",
       "      <th>Partnered</th>\n",
       "      <th>Mature</th>\n",
       "      <th>Language</th>\n",
       "    </tr>\n",
       "  </thead>\n",
       "  <tbody>\n",
       "    <tr>\n",
       "      <th>0</th>\n",
       "      <td>2ZR62O53</td>\n",
       "      <td>6196161750</td>\n",
       "      <td>215250</td>\n",
       "      <td>222720</td>\n",
       "      <td>27716</td>\n",
       "      <td>3246298</td>\n",
       "      <td>1734810</td>\n",
       "      <td>93036735</td>\n",
       "      <td>1</td>\n",
       "      <td>0</td>\n",
       "      <td>English</td>\n",
       "    </tr>\n",
       "    <tr>\n",
       "      <th>1</th>\n",
       "      <td>ZJ31SS7Q</td>\n",
       "      <td>6091677300</td>\n",
       "      <td>211845</td>\n",
       "      <td>310998</td>\n",
       "      <td>25610</td>\n",
       "      <td>5310163</td>\n",
       "      <td>1370184</td>\n",
       "      <td>89705964</td>\n",
       "      <td>1</td>\n",
       "      <td>0</td>\n",
       "      <td>English</td>\n",
       "    </tr>\n",
       "    <tr>\n",
       "      <th>2</th>\n",
       "      <td>I31VI9RK</td>\n",
       "      <td>5644590915</td>\n",
       "      <td>515280</td>\n",
       "      <td>387315</td>\n",
       "      <td>10976</td>\n",
       "      <td>1767635</td>\n",
       "      <td>1023779</td>\n",
       "      <td>102611607</td>\n",
       "      <td>1</td>\n",
       "      <td>1</td>\n",
       "      <td>Portuguese</td>\n",
       "    </tr>\n",
       "    <tr>\n",
       "      <th>3</th>\n",
       "      <td>6GP9WLYR</td>\n",
       "      <td>3970318140</td>\n",
       "      <td>517740</td>\n",
       "      <td>300575</td>\n",
       "      <td>7714</td>\n",
       "      <td>3944850</td>\n",
       "      <td>703986</td>\n",
       "      <td>106546942</td>\n",
       "      <td>1</td>\n",
       "      <td>0</td>\n",
       "      <td>English</td>\n",
       "    </tr>\n",
       "    <tr>\n",
       "      <th>4</th>\n",
       "      <td>3DVR0TDD</td>\n",
       "      <td>3671000070</td>\n",
       "      <td>123660</td>\n",
       "      <td>285644</td>\n",
       "      <td>29602</td>\n",
       "      <td>8938903</td>\n",
       "      <td>2068424</td>\n",
       "      <td>78998587</td>\n",
       "      <td>1</td>\n",
       "      <td>0</td>\n",
       "      <td>English</td>\n",
       "    </tr>\n",
       "    <tr>\n",
       "      <th>...</th>\n",
       "      <td>...</td>\n",
       "      <td>...</td>\n",
       "      <td>...</td>\n",
       "      <td>...</td>\n",
       "      <td>...</td>\n",
       "      <td>...</td>\n",
       "      <td>...</td>\n",
       "      <td>...</td>\n",
       "      <td>...</td>\n",
       "      <td>...</td>\n",
       "      <td>...</td>\n",
       "    </tr>\n",
       "    <tr>\n",
       "      <th>795</th>\n",
       "      <td>M3VVKDII</td>\n",
       "      <td>155187570</td>\n",
       "      <td>57120</td>\n",
       "      <td>19298</td>\n",
       "      <td>2647</td>\n",
       "      <td>179420</td>\n",
       "      <td>132867</td>\n",
       "      <td>4071398</td>\n",
       "      <td>1</td>\n",
       "      <td>0</td>\n",
       "      <td>Italian</td>\n",
       "    </tr>\n",
       "    <tr>\n",
       "      <th>796</th>\n",
       "      <td>H4RDC7MS</td>\n",
       "      <td>154982550</td>\n",
       "      <td>87945</td>\n",
       "      <td>7136</td>\n",
       "      <td>1711</td>\n",
       "      <td>245715</td>\n",
       "      <td>122045</td>\n",
       "      <td>3621969</td>\n",
       "      <td>1</td>\n",
       "      <td>1</td>\n",
       "      <td>Portuguese</td>\n",
       "    </tr>\n",
       "    <tr>\n",
       "      <th>797</th>\n",
       "      <td>3OR62HLN</td>\n",
       "      <td>154727730</td>\n",
       "      <td>94275</td>\n",
       "      <td>6213</td>\n",
       "      <td>1605</td>\n",
       "      <td>114154</td>\n",
       "      <td>32991</td>\n",
       "      <td>3059244</td>\n",
       "      <td>1</td>\n",
       "      <td>0</td>\n",
       "      <td>Spanish</td>\n",
       "    </tr>\n",
       "    <tr>\n",
       "      <th>798</th>\n",
       "      <td>Y7UCJJTF</td>\n",
       "      <td>154595850</td>\n",
       "      <td>85635</td>\n",
       "      <td>8533</td>\n",
       "      <td>1777</td>\n",
       "      <td>120494</td>\n",
       "      <td>28322</td>\n",
       "      <td>3446723</td>\n",
       "      <td>1</td>\n",
       "      <td>0</td>\n",
       "      <td>Spanish</td>\n",
       "    </tr>\n",
       "    <tr>\n",
       "      <th>799</th>\n",
       "      <td>YTHUY3VF</td>\n",
       "      <td>154524165</td>\n",
       "      <td>117735</td>\n",
       "      <td>7416</td>\n",
       "      <td>1216</td>\n",
       "      <td>199617</td>\n",
       "      <td>23303</td>\n",
       "      <td>2812219</td>\n",
       "      <td>1</td>\n",
       "      <td>0</td>\n",
       "      <td>English</td>\n",
       "    </tr>\n",
       "  </tbody>\n",
       "</table>\n",
       "<p>800 rows × 11 columns</p>\n",
       "</div>"
      ],
      "text/plain": [
       "      Channel  Watch time(Minutes)  Stream time(minutes)  Peak viewers  \\\n",
       "0    2ZR62O53           6196161750                215250        222720   \n",
       "1    ZJ31SS7Q           6091677300                211845        310998   \n",
       "2    I31VI9RK           5644590915                515280        387315   \n",
       "3    6GP9WLYR           3970318140                517740        300575   \n",
       "4    3DVR0TDD           3671000070                123660        285644   \n",
       "..        ...                  ...                   ...           ...   \n",
       "795  M3VVKDII            155187570                 57120         19298   \n",
       "796  H4RDC7MS            154982550                 87945          7136   \n",
       "797  3OR62HLN            154727730                 94275          6213   \n",
       "798  Y7UCJJTF            154595850                 85635          8533   \n",
       "799  YTHUY3VF            154524165                117735          7416   \n",
       "\n",
       "     Average viewers  Followers  Followers gained  Views gained  Partnered  \\\n",
       "0              27716    3246298           1734810      93036735          1   \n",
       "1              25610    5310163           1370184      89705964          1   \n",
       "2              10976    1767635           1023779     102611607          1   \n",
       "3               7714    3944850            703986     106546942          1   \n",
       "4              29602    8938903           2068424      78998587          1   \n",
       "..               ...        ...               ...           ...        ...   \n",
       "795             2647     179420            132867       4071398          1   \n",
       "796             1711     245715            122045       3621969          1   \n",
       "797             1605     114154             32991       3059244          1   \n",
       "798             1777     120494             28322       3446723          1   \n",
       "799             1216     199617             23303       2812219          1   \n",
       "\n",
       "     Mature    Language  \n",
       "0         0     English  \n",
       "1         0     English  \n",
       "2         1  Portuguese  \n",
       "3         0     English  \n",
       "4         0     English  \n",
       "..      ...         ...  \n",
       "795       0     Italian  \n",
       "796       1  Portuguese  \n",
       "797       0     Spanish  \n",
       "798       0     Spanish  \n",
       "799       0     English  \n",
       "\n",
       "[800 rows x 11 columns]"
      ]
     },
     "execution_count": 316,
     "metadata": {},
     "output_type": "execute_result"
    }
   ],
   "source": [
    "#input1\n",
    "df1 = pd.read_csv('train.csv')\n",
    "df1"
   ]
  },
  {
   "cell_type": "code",
   "execution_count": 317,
   "metadata": {},
   "outputs": [
    {
     "data": {
      "text/html": [
       "<div>\n",
       "<style scoped>\n",
       "    .dataframe tbody tr th:only-of-type {\n",
       "        vertical-align: middle;\n",
       "    }\n",
       "\n",
       "    .dataframe tbody tr th {\n",
       "        vertical-align: top;\n",
       "    }\n",
       "\n",
       "    .dataframe thead th {\n",
       "        text-align: right;\n",
       "    }\n",
       "</style>\n",
       "<table border=\"1\" class=\"dataframe\">\n",
       "  <thead>\n",
       "    <tr style=\"text-align: right;\">\n",
       "      <th></th>\n",
       "      <th>Channel</th>\n",
       "      <th>Watch time(Minutes)</th>\n",
       "      <th>Stream time(minutes)</th>\n",
       "      <th>Peak viewers</th>\n",
       "      <th>Average viewers</th>\n",
       "      <th>Followers</th>\n",
       "      <th>Views gained</th>\n",
       "      <th>Partnered</th>\n",
       "      <th>Mature</th>\n",
       "      <th>Language</th>\n",
       "    </tr>\n",
       "  </thead>\n",
       "  <tbody>\n",
       "    <tr>\n",
       "      <th>0</th>\n",
       "      <td>97R8L3J0</td>\n",
       "      <td>154332060</td>\n",
       "      <td>27105</td>\n",
       "      <td>29983</td>\n",
       "      <td>5864</td>\n",
       "      <td>308815</td>\n",
       "      <td>8255635</td>\n",
       "      <td>0</td>\n",
       "      <td>0</td>\n",
       "      <td>Russian</td>\n",
       "    </tr>\n",
       "    <tr>\n",
       "      <th>1</th>\n",
       "      <td>6UV44QFF</td>\n",
       "      <td>154277370</td>\n",
       "      <td>87375</td>\n",
       "      <td>9437</td>\n",
       "      <td>1759</td>\n",
       "      <td>151886</td>\n",
       "      <td>3019137</td>\n",
       "      <td>1</td>\n",
       "      <td>1</td>\n",
       "      <td>French</td>\n",
       "    </tr>\n",
       "    <tr>\n",
       "      <th>2</th>\n",
       "      <td>2WKQZUGR</td>\n",
       "      <td>154125945</td>\n",
       "      <td>77475</td>\n",
       "      <td>9460</td>\n",
       "      <td>2106</td>\n",
       "      <td>411346</td>\n",
       "      <td>4832180</td>\n",
       "      <td>1</td>\n",
       "      <td>0</td>\n",
       "      <td>Turkish</td>\n",
       "    </tr>\n",
       "    <tr>\n",
       "      <th>3</th>\n",
       "      <td>R4DGVX2D</td>\n",
       "      <td>153988380</td>\n",
       "      <td>83325</td>\n",
       "      <td>11200</td>\n",
       "      <td>1787</td>\n",
       "      <td>272635</td>\n",
       "      <td>4345590</td>\n",
       "      <td>1</td>\n",
       "      <td>0</td>\n",
       "      <td>French</td>\n",
       "    </tr>\n",
       "    <tr>\n",
       "      <th>4</th>\n",
       "      <td>P8YSNIOI</td>\n",
       "      <td>153963765</td>\n",
       "      <td>110910</td>\n",
       "      <td>14329</td>\n",
       "      <td>1281</td>\n",
       "      <td>106365</td>\n",
       "      <td>1449834</td>\n",
       "      <td>1</td>\n",
       "      <td>1</td>\n",
       "      <td>English</td>\n",
       "    </tr>\n",
       "    <tr>\n",
       "      <th>...</th>\n",
       "      <td>...</td>\n",
       "      <td>...</td>\n",
       "      <td>...</td>\n",
       "      <td>...</td>\n",
       "      <td>...</td>\n",
       "      <td>...</td>\n",
       "      <td>...</td>\n",
       "      <td>...</td>\n",
       "      <td>...</td>\n",
       "      <td>...</td>\n",
       "    </tr>\n",
       "    <tr>\n",
       "      <th>195</th>\n",
       "      <td>8Q556ABI</td>\n",
       "      <td>122524635</td>\n",
       "      <td>13560</td>\n",
       "      <td>21359</td>\n",
       "      <td>9104</td>\n",
       "      <td>601927</td>\n",
       "      <td>2162107</td>\n",
       "      <td>1</td>\n",
       "      <td>0</td>\n",
       "      <td>Spanish</td>\n",
       "    </tr>\n",
       "    <tr>\n",
       "      <th>196</th>\n",
       "      <td>AXQ2XZ45</td>\n",
       "      <td>122523705</td>\n",
       "      <td>153000</td>\n",
       "      <td>3940</td>\n",
       "      <td>793</td>\n",
       "      <td>213212</td>\n",
       "      <td>4399897</td>\n",
       "      <td>1</td>\n",
       "      <td>0</td>\n",
       "      <td>Korean</td>\n",
       "    </tr>\n",
       "    <tr>\n",
       "      <th>197</th>\n",
       "      <td>AP7UE7SZ</td>\n",
       "      <td>122452320</td>\n",
       "      <td>217410</td>\n",
       "      <td>6431</td>\n",
       "      <td>567</td>\n",
       "      <td>109068</td>\n",
       "      <td>3417970</td>\n",
       "      <td>1</td>\n",
       "      <td>0</td>\n",
       "      <td>Korean</td>\n",
       "    </tr>\n",
       "    <tr>\n",
       "      <th>198</th>\n",
       "      <td>PNCBWRE4</td>\n",
       "      <td>122311065</td>\n",
       "      <td>104745</td>\n",
       "      <td>10543</td>\n",
       "      <td>1153</td>\n",
       "      <td>547446</td>\n",
       "      <td>3926918</td>\n",
       "      <td>1</td>\n",
       "      <td>0</td>\n",
       "      <td>English</td>\n",
       "    </tr>\n",
       "    <tr>\n",
       "      <th>199</th>\n",
       "      <td>7S7Y639P</td>\n",
       "      <td>122192850</td>\n",
       "      <td>99180</td>\n",
       "      <td>13788</td>\n",
       "      <td>1205</td>\n",
       "      <td>178553</td>\n",
       "      <td>2049420</td>\n",
       "      <td>1</td>\n",
       "      <td>0</td>\n",
       "      <td>French</td>\n",
       "    </tr>\n",
       "  </tbody>\n",
       "</table>\n",
       "<p>200 rows × 10 columns</p>\n",
       "</div>"
      ],
      "text/plain": [
       "      Channel  Watch time(Minutes)  Stream time(minutes)  Peak viewers  \\\n",
       "0    97R8L3J0            154332060                 27105         29983   \n",
       "1    6UV44QFF            154277370                 87375          9437   \n",
       "2    2WKQZUGR            154125945                 77475          9460   \n",
       "3    R4DGVX2D            153988380                 83325         11200   \n",
       "4    P8YSNIOI            153963765                110910         14329   \n",
       "..        ...                  ...                   ...           ...   \n",
       "195  8Q556ABI            122524635                 13560         21359   \n",
       "196  AXQ2XZ45            122523705                153000          3940   \n",
       "197  AP7UE7SZ            122452320                217410          6431   \n",
       "198  PNCBWRE4            122311065                104745         10543   \n",
       "199  7S7Y639P            122192850                 99180         13788   \n",
       "\n",
       "     Average viewers  Followers  Views gained  Partnered  Mature Language  \n",
       "0               5864     308815       8255635          0       0  Russian  \n",
       "1               1759     151886       3019137          1       1   French  \n",
       "2               2106     411346       4832180          1       0  Turkish  \n",
       "3               1787     272635       4345590          1       0   French  \n",
       "4               1281     106365       1449834          1       1  English  \n",
       "..               ...        ...           ...        ...     ...      ...  \n",
       "195             9104     601927       2162107          1       0  Spanish  \n",
       "196              793     213212       4399897          1       0   Korean  \n",
       "197              567     109068       3417970          1       0   Korean  \n",
       "198             1153     547446       3926918          1       0  English  \n",
       "199             1205     178553       2049420          1       0   French  \n",
       "\n",
       "[200 rows x 10 columns]"
      ]
     },
     "execution_count": 317,
     "metadata": {},
     "output_type": "execute_result"
    }
   ],
   "source": [
    "#input2\n",
    "df2 = pd.read_csv('test.csv')\n",
    "df2"
   ]
  },
  {
   "cell_type": "code",
   "execution_count": null,
   "metadata": {},
   "outputs": [],
   "source": []
  },
  {
   "cell_type": "markdown",
   "metadata": {},
   "source": [
    "### exploration of the data"
   ]
  },
  {
   "cell_type": "code",
   "execution_count": 318,
   "metadata": {
    "scrolled": true
   },
   "outputs": [
    {
     "data": {
      "text/plain": [
       "<seaborn.axisgrid.FacetGrid at 0x7fd15dbc24c0>"
      ]
     },
     "execution_count": 318,
     "metadata": {},
     "output_type": "execute_result"
    },
    {
     "data": {
      "image/png": "[encoded data removed]",
      "text/plain": [
       "<Figure size 360x360 with 1 Axes>"
      ]
     },
     "metadata": {
      "needs_background": "light"
     },
     "output_type": "display_data"
    }
   ],
   "source": [
    "sns.displot(df1['Watch time(Minutes)'])"
   ]
  },
  {
   "cell_type": "code",
   "execution_count": 319,
   "metadata": {},
   "outputs": [
    {
     "data": {
      "text/plain": [
       "<seaborn.axisgrid.FacetGrid at 0x7fd15db6d880>"
      ]
     },
     "execution_count": 319,
     "metadata": {},
     "output_type": "execute_result"
    },
    {
     "data": {
      "image/png": "[encoded data removed]",
      "text/plain": [
       "<Figure size 360x360 with 1 Axes>"
      ]
     },
     "metadata": {
      "needs_background": "light"
     },
     "output_type": "display_data"
    }
   ],
   "source": [
    "sns.displot(df1['Stream time(minutes)'])"
   ]
  },
  {
   "cell_type": "code",
   "execution_count": 320,
   "metadata": {},
   "outputs": [],
   "source": [
    "# see whether they follow "
   ]
  },
  {
   "cell_type": "code",
   "execution_count": 321,
   "metadata": {},
   "outputs": [
    {
     "data": {
      "text/plain": [
       "<seaborn.axisgrid.FacetGrid at 0x7fd15bdc3970>"
      ]
     },
     "execution_count": 321,
     "metadata": {},
     "output_type": "execute_result"
    },
    {
     "data": {
      "image/png": "[encoded data removed]",
      "text/plain": [
       "<Figure size 360x360 with 1 Axes>"
      ]
     },
     "metadata": {
      "needs_background": "light"
     },
     "output_type": "display_data"
    }
   ],
   "source": [
    "sns.displot(df1['Stream time(minutes)'])"
   ]
  },
  {
   "cell_type": "code",
   "execution_count": null,
   "metadata": {},
   "outputs": [],
   "source": []
  },
  {
   "cell_type": "markdown",
   "metadata": {},
   "source": [
    "### data preprocessing"
   ]
  },
  {
   "cell_type": "code",
   "execution_count": 322,
   "metadata": {},
   "outputs": [
    {
     "data": {
      "text/plain": [
       "Channel                 0\n",
       "Watch time(Minutes)     0\n",
       "Stream time(minutes)    0\n",
       "Peak viewers            0\n",
       "Average viewers         0\n",
       "Followers               0\n",
       "Followers gained        0\n",
       "Views gained            0\n",
       "Partnered               0\n",
       "Mature                  0\n",
       "Language                0\n",
       "dtype: int64"
      ]
     },
     "execution_count": 322,
     "metadata": {},
     "output_type": "execute_result"
    }
   ],
   "source": [
    "#check the existence of the null values in the data\n",
    "df1.isnull().sum()"
   ]
  },
  {
   "cell_type": "code",
   "execution_count": 323,
   "metadata": {},
   "outputs": [],
   "source": [
    "#add one more feature for higher accuracty: Average view-to-Follower ratio\n",
    "df1['view_follower_ratio'] = df1['Average viewers'] / df1['Followers']\n",
    "df2['view_follower_ratio'] = df2['Average viewers'] / df2['Followers']"
   ]
  },
  {
   "cell_type": "code",
   "execution_count": 324,
   "metadata": {},
   "outputs": [
    {
     "name": "stdout",
     "output_type": "stream",
     "text": [
      "Channel                  object\n",
      "Watch time(Minutes)       int64\n",
      "Stream time(minutes)      int64\n",
      "Peak viewers              int64\n",
      "Average viewers           int64\n",
      "Followers                 int64\n",
      "Followers gained          int64\n",
      "Views gained              int64\n",
      "Partnered                 int64\n",
      "Mature                    int64\n",
      "Language                 object\n",
      "view_follower_ratio     float64\n",
      "dtype: object\n",
      "Channel                  object\n",
      "Watch time(Minutes)       int64\n",
      "Stream time(minutes)      int64\n",
      "Peak viewers              int64\n",
      "Average viewers           int64\n",
      "Followers                 int64\n",
      "Views gained              int64\n",
      "Partnered                 int64\n",
      "Mature                    int64\n",
      "Language                 object\n",
      "view_follower_ratio     float64\n",
      "dtype: object\n"
     ]
    }
   ],
   "source": [
    "#checking dtypes of each column\n",
    "print(df1.dtypes)\n",
    "print(df2.dtypes)"
   ]
  },
  {
   "cell_type": "code",
   "execution_count": 325,
   "metadata": {},
   "outputs": [
    {
     "data": {
      "text/html": [
       "<div>\n",
       "<style scoped>\n",
       "    .dataframe tbody tr th:only-of-type {\n",
       "        vertical-align: middle;\n",
       "    }\n",
       "\n",
       "    .dataframe tbody tr th {\n",
       "        vertical-align: top;\n",
       "    }\n",
       "\n",
       "    .dataframe thead th {\n",
       "        text-align: right;\n",
       "    }\n",
       "</style>\n",
       "<table border=\"1\" class=\"dataframe\">\n",
       "  <thead>\n",
       "    <tr style=\"text-align: right;\">\n",
       "      <th></th>\n",
       "      <th>count</th>\n",
       "      <th>mean</th>\n",
       "      <th>std</th>\n",
       "      <th>min</th>\n",
       "      <th>25%</th>\n",
       "      <th>50%</th>\n",
       "      <th>75%</th>\n",
       "      <th>max</th>\n",
       "    </tr>\n",
       "  </thead>\n",
       "  <tbody>\n",
       "    <tr>\n",
       "      <th>Watch time(Minutes)</th>\n",
       "      <td>800.0</td>\n",
       "      <td>4.888771e+08</td>\n",
       "      <td>5.940109e+08</td>\n",
       "      <td>1.545242e+08</td>\n",
       "      <td>2.004784e+08</td>\n",
       "      <td>2.899965e+08</td>\n",
       "      <td>5.276095e+08</td>\n",
       "      <td>6.196162e+09</td>\n",
       "    </tr>\n",
       "    <tr>\n",
       "      <th>Stream time(minutes)</th>\n",
       "      <td>800.0</td>\n",
       "      <td>1.245265e+05</td>\n",
       "      <td>8.762512e+04</td>\n",
       "      <td>6.195000e+03</td>\n",
       "      <td>7.658625e+04</td>\n",
       "      <td>1.108575e+05</td>\n",
       "      <td>1.476638e+05</td>\n",
       "      <td>5.214450e+05</td>\n",
       "    </tr>\n",
       "    <tr>\n",
       "      <th>Peak viewers</th>\n",
       "      <td>800.0</td>\n",
       "      <td>4.230734e+04</td>\n",
       "      <td>6.569140e+04</td>\n",
       "      <td>1.182000e+03</td>\n",
       "      <td>1.080075e+04</td>\n",
       "      <td>1.960700e+04</td>\n",
       "      <td>4.372700e+04</td>\n",
       "      <td>6.393750e+05</td>\n",
       "    </tr>\n",
       "    <tr>\n",
       "      <th>Average viewers</th>\n",
       "      <td>800.0</td>\n",
       "      <td>5.402686e+03</td>\n",
       "      <td>9.180192e+03</td>\n",
       "      <td>3.130000e+02</td>\n",
       "      <td>1.727750e+03</td>\n",
       "      <td>2.829500e+03</td>\n",
       "      <td>5.465500e+03</td>\n",
       "      <td>1.476430e+05</td>\n",
       "    </tr>\n",
       "    <tr>\n",
       "      <th>Followers</th>\n",
       "      <td>800.0</td>\n",
       "      <td>6.449188e+05</td>\n",
       "      <td>8.733633e+05</td>\n",
       "      <td>3.660000e+03</td>\n",
       "      <td>1.988715e+05</td>\n",
       "      <td>3.660885e+05</td>\n",
       "      <td>7.319040e+05</td>\n",
       "      <td>8.938903e+06</td>\n",
       "    </tr>\n",
       "    <tr>\n",
       "      <th>Followers gained</th>\n",
       "      <td>800.0</td>\n",
       "      <td>2.299286e+05</td>\n",
       "      <td>3.704139e+05</td>\n",
       "      <td>-1.577200e+04</td>\n",
       "      <td>4.940325e+04</td>\n",
       "      <td>1.142085e+05</td>\n",
       "      <td>2.533272e+05</td>\n",
       "      <td>3.966525e+06</td>\n",
       "    </tr>\n",
       "    <tr>\n",
       "      <th>Views gained</th>\n",
       "      <td>800.0</td>\n",
       "      <td>1.335486e+07</td>\n",
       "      <td>2.732344e+07</td>\n",
       "      <td>1.757880e+05</td>\n",
       "      <td>4.889789e+06</td>\n",
       "      <td>7.630136e+06</td>\n",
       "      <td>1.378407e+07</td>\n",
       "      <td>6.701375e+08</td>\n",
       "    </tr>\n",
       "    <tr>\n",
       "      <th>Partnered</th>\n",
       "      <td>800.0</td>\n",
       "      <td>9.862500e-01</td>\n",
       "      <td>1.165243e-01</td>\n",
       "      <td>0.000000e+00</td>\n",
       "      <td>1.000000e+00</td>\n",
       "      <td>1.000000e+00</td>\n",
       "      <td>1.000000e+00</td>\n",
       "      <td>1.000000e+00</td>\n",
       "    </tr>\n",
       "    <tr>\n",
       "      <th>Mature</th>\n",
       "      <td>800.0</td>\n",
       "      <td>2.175000e-01</td>\n",
       "      <td>4.128035e-01</td>\n",
       "      <td>0.000000e+00</td>\n",
       "      <td>0.000000e+00</td>\n",
       "      <td>0.000000e+00</td>\n",
       "      <td>0.000000e+00</td>\n",
       "      <td>1.000000e+00</td>\n",
       "    </tr>\n",
       "    <tr>\n",
       "      <th>view_follower_ratio</th>\n",
       "      <td>800.0</td>\n",
       "      <td>1.218502e-02</td>\n",
       "      <td>1.634936e-02</td>\n",
       "      <td>3.968636e-04</td>\n",
       "      <td>4.930182e-03</td>\n",
       "      <td>8.497441e-03</td>\n",
       "      <td>1.394530e-02</td>\n",
       "      <td>2.330534e-01</td>\n",
       "    </tr>\n",
       "  </tbody>\n",
       "</table>\n",
       "</div>"
      ],
      "text/plain": [
       "                      count          mean           std           min  \\\n",
       "Watch time(Minutes)   800.0  4.888771e+08  5.940109e+08  1.545242e+08   \n",
       "Stream time(minutes)  800.0  1.245265e+05  8.762512e+04  6.195000e+03   \n",
       "Peak viewers          800.0  4.230734e+04  6.569140e+04  1.182000e+03   \n",
       "Average viewers       800.0  5.402686e+03  9.180192e+03  3.130000e+02   \n",
       "Followers             800.0  6.449188e+05  8.733633e+05  3.660000e+03   \n",
       "Followers gained      800.0  2.299286e+05  3.704139e+05 -1.577200e+04   \n",
       "Views gained          800.0  1.335486e+07  2.732344e+07  1.757880e+05   \n",
       "Partnered             800.0  9.862500e-01  1.165243e-01  0.000000e+00   \n",
       "Mature                800.0  2.175000e-01  4.128035e-01  0.000000e+00   \n",
       "view_follower_ratio   800.0  1.218502e-02  1.634936e-02  3.968636e-04   \n",
       "\n",
       "                               25%           50%           75%           max  \n",
       "Watch time(Minutes)   2.004784e+08  2.899965e+08  5.276095e+08  6.196162e+09  \n",
       "Stream time(minutes)  7.658625e+04  1.108575e+05  1.476638e+05  5.214450e+05  \n",
       "Peak viewers          1.080075e+04  1.960700e+04  4.372700e+04  6.393750e+05  \n",
       "Average viewers       1.727750e+03  2.829500e+03  5.465500e+03  1.476430e+05  \n",
       "Followers             1.988715e+05  3.660885e+05  7.319040e+05  8.938903e+06  \n",
       "Followers gained      4.940325e+04  1.142085e+05  2.533272e+05  3.966525e+06  \n",
       "Views gained          4.889789e+06  7.630136e+06  1.378407e+07  6.701375e+08  \n",
       "Partnered             1.000000e+00  1.000000e+00  1.000000e+00  1.000000e+00  \n",
       "Mature                0.000000e+00  0.000000e+00  0.000000e+00  1.000000e+00  \n",
       "view_follower_ratio   4.930182e-03  8.497441e-03  1.394530e-02  2.330534e-01  "
      ]
     },
     "execution_count": 325,
     "metadata": {},
     "output_type": "execute_result"
    }
   ],
   "source": [
    "df1.describe().T #stats of the test data"
   ]
  },
  {
   "cell_type": "code",
   "execution_count": 326,
   "metadata": {},
   "outputs": [],
   "source": [
    "# ['Watch time(Minutes)', 'Stream time(minutes)', 'Peak viewers', 'Average viewers', 'Followers', 'no_view_follower_ratio'] should be X inputs\n",
    "X = df1[['Watch time(Minutes)', 'Stream time(minutes)', 'Peak viewers',\n",
    "       'Average viewers', 'Followers', 'view_follower_ratio']]\n",
    "y = df1['Followers gained']"
   ]
  },
  {
   "cell_type": "code",
   "execution_count": null,
   "metadata": {},
   "outputs": [],
   "source": []
  },
  {
   "cell_type": "code",
   "execution_count": 327,
   "metadata": {},
   "outputs": [
    {
     "name": "stdout",
     "output_type": "stream",
     "text": [
      "(800, 6)\n",
      "(800,)\n"
     ]
    }
   ],
   "source": [
    "print(X.shape)\n",
    "print(y.shape)"
   ]
  },
  {
   "cell_type": "code",
   "execution_count": 328,
   "metadata": {},
   "outputs": [],
   "source": [
    "from sklearn.preprocessing import StandardScaler\n",
    "from sklearn.model_selection import train_test_split\n",
    "\n",
    "#define X_train, X_test, y_train, y_test\n",
    "\n",
    "X_train, X_test, y_train, y_test = train_test_split(X, y, test_size = 0.2, random_state =0)"
   ]
  },
  {
   "cell_type": "code",
   "execution_count": 378,
   "metadata": {},
   "outputs": [],
   "source": [
    "#preprocessing step\n",
    "scaler = StandardScaler()\n",
    "scaler.fit(X_train)\n",
    "X_train = scaler.transform(X_train)\n",
    "X_test = scaler.transform(X_test)"
   ]
  },
  {
   "cell_type": "code",
   "execution_count": 379,
   "metadata": {},
   "outputs": [
    {
     "data": {
      "text/plain": [
       "(640, 6)"
      ]
     },
     "execution_count": 379,
     "metadata": {},
     "output_type": "execute_result"
    }
   ],
   "source": [
    "X_train.shape"
   ]
  },
  {
   "cell_type": "code",
   "execution_count": 380,
   "metadata": {},
   "outputs": [],
   "source": [
    "#df2-related preprocessing step \n",
    "ex_input = df2[['Watch time(Minutes)', 'Stream time(minutes)', 'Peak viewers',\n",
    "       'Average viewers', 'Followers', 'view_follower_ratio']]\n",
    "#ex_input = ex_input.to_numpy()\n",
    "scaler.fit(ex_input)\n",
    "ex_input = scaler.transform(ex_input)"
   ]
  },
  {
   "cell_type": "code",
   "execution_count": 381,
   "metadata": {},
   "outputs": [
    {
     "data": {
      "text/plain": [
       "(200, 6)"
      ]
     },
     "execution_count": 381,
     "metadata": {},
     "output_type": "execute_result"
    }
   ],
   "source": [
    "ex_input.shape"
   ]
  },
  {
   "cell_type": "markdown",
   "metadata": {},
   "source": [
    "### 1) linear regression"
   ]
  },
  {
   "cell_type": "code",
   "execution_count": 382,
   "metadata": {},
   "outputs": [],
   "source": [
    "#import libraries related to ilnear regression model\n",
    "from sklearn.linear_model import LinearRegression\n",
    "from sklearn.metrics import r2_score, mean_squared_error"
   ]
  },
  {
   "cell_type": "markdown",
   "metadata": {},
   "source": [
    "#### train the model"
   ]
  },
  {
   "cell_type": "code",
   "execution_count": 383,
   "metadata": {},
   "outputs": [
    {
     "name": "stdout",
     "output_type": "stream",
     "text": [
      "r2 score:  0.5605800364079344\n",
      "RMSE:  287891.4768830835\n"
     ]
    }
   ],
   "source": [
    "lr =   LinearRegression().fit(X_train, y_train)\n",
    "pred = lr.predict(X_test)\n",
    "\n",
    "print('r2 score: ', str(r2_score(y_test, pred)))\n",
    "print('RMSE: ', str(np.sqrt(mean_squared_error(y_test, pred)))) # RMSE = root mean squared error"
   ]
  },
  {
   "cell_type": "markdown",
   "metadata": {},
   "source": [
    "#### accuracy of the linear regression model"
   ]
  },
  {
   "cell_type": "code",
   "execution_count": 384,
   "metadata": {},
   "outputs": [
    {
     "name": "stdout",
     "output_type": "stream",
     "text": [
      "accuracy of the train score: 0.546\n",
      "accuracy of the test score: 0.561\n"
     ]
    }
   ],
   "source": [
    "print(\"accuracy of the train score: {:.3f}\".format(lr.score(X_train, y_train)))\n",
    "print(\"accuracy of the test score: {:.3f}\".format(lr.score(X_test, y_test)))"
   ]
  },
  {
   "cell_type": "code",
   "execution_count": null,
   "metadata": {},
   "outputs": [],
   "source": []
  },
  {
   "cell_type": "markdown",
   "metadata": {},
   "source": [
    "### 2) ADAboost (to boost the performance of linear regression) "
   ]
  },
  {
   "cell_type": "code",
   "execution_count": 385,
   "metadata": {},
   "outputs": [],
   "source": [
    "from sklearn.ensemble import AdaBoostRegressor\n",
    "\n",
    "ada_clf = AdaBoostRegressor(random_state =0, n_estimators = 100)"
   ]
  },
  {
   "cell_type": "markdown",
   "metadata": {},
   "source": [
    "#### train model "
   ]
  },
  {
   "cell_type": "code",
   "execution_count": 386,
   "metadata": {},
   "outputs": [],
   "source": [
    "ada_clf.fit(X_train, y_train)\n",
    "y_pred_ada = ada_clf.predict(X_test)"
   ]
  },
  {
   "cell_type": "markdown",
   "metadata": {},
   "source": [
    "#### accuracy of the adaboost model"
   ]
  },
  {
   "cell_type": "code",
   "execution_count": 387,
   "metadata": {},
   "outputs": [
    {
     "name": "stdout",
     "output_type": "stream",
     "text": [
      "accuracy of the train score: 0.733\n",
      "accuracy of the test score: 0.528\n"
     ]
    }
   ],
   "source": [
    "print(\"accuracy of the train score: {:.3f}\".format(ada_clf.score(X_train, y_train)))\n",
    "print(\"accuracy of the test score: {:.3f}\".format(ada_clf.score(X_test, y_test)))"
   ]
  },
  {
   "cell_type": "code",
   "execution_count": null,
   "metadata": {},
   "outputs": [],
   "source": []
  },
  {
   "cell_type": "markdown",
   "metadata": {},
   "source": [
    "### 3) Random  Forest"
   ]
  },
  {
   "cell_type": "code",
   "execution_count": 388,
   "metadata": {},
   "outputs": [],
   "source": [
    "#import libraries required for SVM\n",
    "from sklearn.pipeline import Pipeline\n",
    "from sklearn.ensemble import RandomForestClassifier\n",
    "\n",
    "rnd_clf = RandomForestClassifier(n_estimators = 500, max_leaf_nodes = 16, n_jobs = -1) "
   ]
  },
  {
   "cell_type": "markdown",
   "metadata": {},
   "source": [
    "#### train model"
   ]
  },
  {
   "cell_type": "code",
   "execution_count": 389,
   "metadata": {},
   "outputs": [],
   "source": [
    "rnd_clf = rnd_clf.fit(X_train, y_train)\n",
    "y_pred_rf = rnd_clf.predict(X_test)"
   ]
  },
  {
   "cell_type": "code",
   "execution_count": 390,
   "metadata": {},
   "outputs": [
    {
     "data": {
      "text/plain": [
       "array([ 526244,  108832,   72454,  370358,  115965,  370358,  108832,\n",
       "        108832,  108832,  370358,   72454,  121422,  108832,   36103,\n",
       "        115965,  108832, 1454481,    1328,   36103,  826433,   36988,\n",
       "        875678,  108832,  108832,   13471, 1455278,  167704,   87860,\n",
       "          1328,   11998,  657630,   57681,  552959,   37839,   46398,\n",
       "          1328,   29434,   10214,   36103,   13471,  132108,  875678,\n",
       "        132108,   11998,  495072,    1328,   11998,   29549,  649562,\n",
       "         67207,  558107,   11998,  136341,  750480,   36103,  370358,\n",
       "         29752,   29752,  223147,  657630,  657630,  120906,   29549,\n",
       "         35986,  790345,   11998,  790345,  486410,   31088,   29549,\n",
       "        115692,  425023,   36988,   57448,   23166,   11998,  154466,\n",
       "         37839,   18023,  657630,  875678,   26937,   74586,   54112,\n",
       "        154466,  657630,   11998,  875678,   11998,   65267,    1328,\n",
       "         18023,  212042,  154466,   73678,   11998,  182123,  157424,\n",
       "        378656,   20933,  558107,  145809,  790345,   43426,  107350,\n",
       "        182123,  212042,   49439,   36103,  120204,  214775,  182123,\n",
       "         54706,   46791,  271355,    1328,  242229,   78054,   16505,\n",
       "        247212,  120906,  212042,   36103,    1328,  833587,  146852,\n",
       "          1328,  126150,   23303,   23303,   23303,   23303,   23303,\n",
       "         23303,   23303,   23303,    1328,   23303,   23303,   23303,\n",
       "         23303,   23303,   23303,   23303,   23303,   23303,   23303,\n",
       "         23303,   23303,   23303,   23303,   23303,   23303,   23303,\n",
       "         23303,   23303,   23303,   23303,   28322,   23303,   23303,\n",
       "         23303,   28322,   28322,   23303,   23303,   23303,   23303,\n",
       "         23303,   23303,   23303,   23303,   23303,   23303,   28322,\n",
       "         23303,   23303,   23303,   23303,   23303,   23303,   23303,\n",
       "         23303,   23303,   23303,   23303,   23303,   23303,   23303,\n",
       "         23303,  108438,   23303,   36103,   23303,   23303,   23303,\n",
       "         23303,   23303,   23303,   23303])"
      ]
     },
     "execution_count": 390,
     "metadata": {},
     "output_type": "execute_result"
    }
   ],
   "source": [
    "ex_pred_rf = rnd_clf.predict(ex_input)\n",
    "ex_pred_rf"
   ]
  },
  {
   "cell_type": "code",
   "execution_count": null,
   "metadata": {},
   "outputs": [],
   "source": []
  },
  {
   "cell_type": "markdown",
   "metadata": {},
   "source": [
    "#### accuracy of the random forest model "
   ]
  },
  {
   "cell_type": "code",
   "execution_count": 391,
   "metadata": {},
   "outputs": [
    {
     "name": "stdout",
     "output_type": "stream",
     "text": [
      "accuracy of the train score: 0.780\n",
      "accuracy of the test score: 0.000\n"
     ]
    }
   ],
   "source": [
    "print(\"accuracy of the train score: {:.3f}\".format(rnd_clf.score(X_train, y_train)))\n",
    "print(\"accuracy of the test score: {:.3f}\".format(rnd_clf.score(X_test, y_test)))"
   ]
  },
  {
   "cell_type": "code",
   "execution_count": 392,
   "metadata": {},
   "outputs": [
    {
     "name": "stdout",
     "output_type": "stream",
     "text": [
      "CPU times: user 497 ms, sys: 79.8 ms, total: 577 ms\n",
      "Wall time: 679 ms\n",
      "score = 0.38509\n"
     ]
    }
   ],
   "source": [
    "#confusion matrix \n",
    "from sklearn.model_selection import KFold\n",
    "from sklearn.model_selection import cross_val_score\n",
    "k_fold = KFold(n_splits = 5, shuffle = True, random_state = 0)\n",
    "\n",
    "from sklearn.ensemble import RandomForestRegressor\n",
    "\n",
    "max_depth_list = []\n",
    "model = RandomForestRegressor(n_estimators = 100, n_jobs= -1, random_state = 0) \n",
    "%time score = cross_val_score (model, X_train, y_train, cv = k_fold) \n",
    "score = score.mean()\n",
    "#the closer to 0, the better\n",
    "print(\"score = {0:.5f}\".format(score))\n"
   ]
  },
  {
   "cell_type": "markdown",
   "metadata": {},
   "source": [
    "Random forest model seems to be the most appropriate, showing the highest accuracy. "
   ]
  },
  {
   "cell_type": "code",
   "execution_count": null,
   "metadata": {},
   "outputs": [],
   "source": []
  },
  {
   "cell_type": "markdown",
   "metadata": {},
   "source": [
    "#### finding the best features "
   ]
  },
  {
   "cell_type": "code",
   "execution_count": 393,
   "metadata": {},
   "outputs": [
    {
     "data": {
      "text/plain": [
       "['Watch time(Minutes)',\n",
       " 'Stream time(minutes)',\n",
       " 'Peak viewers',\n",
       " 'Average viewers',\n",
       " 'Followers',\n",
       " 'view_follower_ratio']"
      ]
     },
     "execution_count": 393,
     "metadata": {},
     "output_type": "execute_result"
    }
   ],
   "source": [
    "X_features = X.columns.tolist()\n",
    "X_features"
   ]
  },
  {
   "cell_type": "markdown",
   "metadata": {},
   "source": [
    "### see the feature importances"
   ]
  },
  {
   "cell_type": "code",
   "execution_count": 394,
   "metadata": {},
   "outputs": [
    {
     "name": "stdout",
     "output_type": "stream",
     "text": [
      "Watch time(Minutes) 0.16704143510910838\n",
      "Stream time(minutes) 0.1751456188208737\n",
      "Peak viewers 0.16721703242609998\n",
      "Average viewers 0.1645642601400251\n",
      "Followers 0.16432494511985546\n",
      "view_follower_ratio 0.16170670838403733\n"
     ]
    }
   ],
   "source": [
    "for name, score in zip(X_features, rnd_clf.feature_importances_):\n",
    "    print(name, score)"
   ]
  },
  {
   "cell_type": "markdown",
   "metadata": {},
   "source": [
    "feature importances:\n",
    "eak viewers > Stream time(minutes) > Watch time(Minutes) > Followers  > view_follower_ratio > Average viewers "
   ]
  },
  {
   "cell_type": "code",
   "execution_count": 395,
   "metadata": {},
   "outputs": [
    {
     "data": {
      "text/plain": [
       "[Text(0.5, 1.0, 'test data set')]"
      ]
     },
     "execution_count": 395,
     "metadata": {},
     "output_type": "execute_result"
    },
    {
     "data": {
      "image/png": "[encoded data removed]",
      "text/plain": [
       "<Figure size 864x504 with 2 Axes>"
      ]
     },
     "metadata": {
      "needs_background": "light"
     },
     "output_type": "display_data"
    }
   ],
   "source": [
    "#visualization of the predicted data\n",
    "import matplotlib.pyplot as plt\n",
    "fig, (ax1, ax2) = plt.subplots(ncols = 2)\n",
    "fig.set_size_inches(12,7)\n",
    "sns.histplot(y_train, ax = ax1, bins = 100) \n",
    "ax1.set(title = 'train data set')\n",
    "sns.histplot(y_pred_rf, ax = ax2, bins = 100) \n",
    "ax2.set(title = 'test data set')"
   ]
  },
  {
   "cell_type": "code",
   "execution_count": 396,
   "metadata": {},
   "outputs": [
    {
     "data": {
      "text/plain": [
       "array([[ 1.84183462, -1.05153979,  0.71109194,  1.0073879 ,  0.14161934,\n",
       "         0.08236443],\n",
       "       [ 1.83614388, -0.23235142, -0.34096889, -0.15111475, -0.43986076,\n",
       "        -0.07065135],\n",
       "       [ 1.82038743, -0.36691198, -0.33979117, -0.05318529,  0.52153469,\n",
       "        -0.20411821],\n",
       "       ...,\n",
       "       [-1.47539574,  1.53508111, -0.49489155, -0.48751795, -0.59851732,\n",
       "        -0.20249019],\n",
       "       [-1.49009396,  0.00374119, -0.284336  , -0.32213852,  1.02583562,\n",
       "        -0.2663691 ],\n",
       "       [-1.50239476, -0.07189815, -0.11817532, -0.30746322, -0.34104964,\n",
       "        -0.17047057]])"
      ]
     },
     "execution_count": 396,
     "metadata": {},
     "output_type": "execute_result"
    }
   ],
   "source": [
    "ex_input"
   ]
  },
  {
   "cell_type": "markdown",
   "metadata": {},
   "source": [
    "### Submit"
   ]
  },
  {
   "cell_type": "code",
   "execution_count": 400,
   "metadata": {},
   "outputs": [
    {
     "data": {
      "text/html": [
       "<div>\n",
       "<style scoped>\n",
       "    .dataframe tbody tr th:only-of-type {\n",
       "        vertical-align: middle;\n",
       "    }\n",
       "\n",
       "    .dataframe tbody tr th {\n",
       "        vertical-align: top;\n",
       "    }\n",
       "\n",
       "    .dataframe thead th {\n",
       "        text-align: right;\n",
       "    }\n",
       "</style>\n",
       "<table border=\"1\" class=\"dataframe\">\n",
       "  <thead>\n",
       "    <tr style=\"text-align: right;\">\n",
       "      <th></th>\n",
       "      <th>Channel</th>\n",
       "      <th>Follwers gained</th>\n",
       "    </tr>\n",
       "  </thead>\n",
       "  <tbody>\n",
       "    <tr>\n",
       "      <th>0</th>\n",
       "      <td>97R8L3J0</td>\n",
       "      <td>526244</td>\n",
       "    </tr>\n",
       "    <tr>\n",
       "      <th>1</th>\n",
       "      <td>6UV44QFF</td>\n",
       "      <td>108832</td>\n",
       "    </tr>\n",
       "    <tr>\n",
       "      <th>2</th>\n",
       "      <td>2WKQZUGR</td>\n",
       "      <td>72454</td>\n",
       "    </tr>\n",
       "    <tr>\n",
       "      <th>3</th>\n",
       "      <td>R4DGVX2D</td>\n",
       "      <td>370358</td>\n",
       "    </tr>\n",
       "    <tr>\n",
       "      <th>4</th>\n",
       "      <td>P8YSNIOI</td>\n",
       "      <td>115965</td>\n",
       "    </tr>\n",
       "    <tr>\n",
       "      <th>...</th>\n",
       "      <td>...</td>\n",
       "      <td>...</td>\n",
       "    </tr>\n",
       "    <tr>\n",
       "      <th>195</th>\n",
       "      <td>8Q556ABI</td>\n",
       "      <td>23303</td>\n",
       "    </tr>\n",
       "    <tr>\n",
       "      <th>196</th>\n",
       "      <td>AXQ2XZ45</td>\n",
       "      <td>23303</td>\n",
       "    </tr>\n",
       "    <tr>\n",
       "      <th>197</th>\n",
       "      <td>AP7UE7SZ</td>\n",
       "      <td>23303</td>\n",
       "    </tr>\n",
       "    <tr>\n",
       "      <th>198</th>\n",
       "      <td>PNCBWRE4</td>\n",
       "      <td>23303</td>\n",
       "    </tr>\n",
       "    <tr>\n",
       "      <th>199</th>\n",
       "      <td>7S7Y639P</td>\n",
       "      <td>23303</td>\n",
       "    </tr>\n",
       "  </tbody>\n",
       "</table>\n",
       "<p>200 rows × 2 columns</p>\n",
       "</div>"
      ],
      "text/plain": [
       "      Channel  Follwers gained\n",
       "0    97R8L3J0           526244\n",
       "1    6UV44QFF           108832\n",
       "2    2WKQZUGR            72454\n",
       "3    R4DGVX2D           370358\n",
       "4    P8YSNIOI           115965\n",
       "..        ...              ...\n",
       "195  8Q556ABI            23303\n",
       "196  AXQ2XZ45            23303\n",
       "197  AP7UE7SZ            23303\n",
       "198  PNCBWRE4            23303\n",
       "199  7S7Y639P            23303\n",
       "\n",
       "[200 rows x 2 columns]"
      ]
     },
     "execution_count": 400,
     "metadata": {},
     "output_type": "execute_result"
    }
   ],
   "source": [
    "final_df = pd.DataFrame()\n",
    "final_df['Channel'] = df2['Channel']\n",
    "\n",
    "#check prediction\n",
    "ex_pred = rnd_clf.predict(ex_input)\n",
    "ex_pred\n",
    "final_df['Follwers gained'] = ex_pred\n",
    "final_df"
   ]
  },
  {
   "cell_type": "code",
   "execution_count": 401,
   "metadata": {},
   "outputs": [],
   "source": [
    "#export \"final_df\" as excel file\n",
    "final_df.to_excel('final_pred_LEE,Jooran.xlsx', header= True)"
   ]
  },
  {
   "cell_type": "code",
   "execution_count": 402,
   "metadata": {},
   "outputs": [
    {
     "data": {
      "text/html": [
       "<div>\n",
       "<style scoped>\n",
       "    .dataframe tbody tr th:only-of-type {\n",
       "        vertical-align: middle;\n",
       "    }\n",
       "\n",
       "    .dataframe tbody tr th {\n",
       "        vertical-align: top;\n",
       "    }\n",
       "\n",
       "    .dataframe thead th {\n",
       "        text-align: right;\n",
       "    }\n",
       "</style>\n",
       "<table border=\"1\" class=\"dataframe\">\n",
       "  <thead>\n",
       "    <tr style=\"text-align: right;\">\n",
       "      <th></th>\n",
       "      <th>Channel</th>\n",
       "      <th>Followers gained</th>\n",
       "    </tr>\n",
       "  </thead>\n",
       "  <tbody>\n",
       "    <tr>\n",
       "      <th>0</th>\n",
       "      <td>97R8L3J0</td>\n",
       "      <td>0</td>\n",
       "    </tr>\n",
       "    <tr>\n",
       "      <th>1</th>\n",
       "      <td>6UV44QFF</td>\n",
       "      <td>0</td>\n",
       "    </tr>\n",
       "    <tr>\n",
       "      <th>2</th>\n",
       "      <td>2WKQZUGR</td>\n",
       "      <td>0</td>\n",
       "    </tr>\n",
       "    <tr>\n",
       "      <th>3</th>\n",
       "      <td>R4DGVX2D</td>\n",
       "      <td>0</td>\n",
       "    </tr>\n",
       "    <tr>\n",
       "      <th>4</th>\n",
       "      <td>P8YSNIOI</td>\n",
       "      <td>0</td>\n",
       "    </tr>\n",
       "    <tr>\n",
       "      <th>...</th>\n",
       "      <td>...</td>\n",
       "      <td>...</td>\n",
       "    </tr>\n",
       "    <tr>\n",
       "      <th>195</th>\n",
       "      <td>8Q556ABI</td>\n",
       "      <td>0</td>\n",
       "    </tr>\n",
       "    <tr>\n",
       "      <th>196</th>\n",
       "      <td>AXQ2XZ45</td>\n",
       "      <td>0</td>\n",
       "    </tr>\n",
       "    <tr>\n",
       "      <th>197</th>\n",
       "      <td>AP7UE7SZ</td>\n",
       "      <td>0</td>\n",
       "    </tr>\n",
       "    <tr>\n",
       "      <th>198</th>\n",
       "      <td>PNCBWRE4</td>\n",
       "      <td>0</td>\n",
       "    </tr>\n",
       "    <tr>\n",
       "      <th>199</th>\n",
       "      <td>7S7Y639P</td>\n",
       "      <td>0</td>\n",
       "    </tr>\n",
       "  </tbody>\n",
       "</table>\n",
       "<p>200 rows × 2 columns</p>\n",
       "</div>"
      ],
      "text/plain": [
       "      Channel  Followers gained\n",
       "0    97R8L3J0                 0\n",
       "1    6UV44QFF                 0\n",
       "2    2WKQZUGR                 0\n",
       "3    R4DGVX2D                 0\n",
       "4    P8YSNIOI                 0\n",
       "..        ...               ...\n",
       "195  8Q556ABI                 0\n",
       "196  AXQ2XZ45                 0\n",
       "197  AP7UE7SZ                 0\n",
       "198  PNCBWRE4                 0\n",
       "199  7S7Y639P                 0\n",
       "\n",
       "[200 rows x 2 columns]"
      ]
     },
     "execution_count": 402,
     "metadata": {},
     "output_type": "execute_result"
    }
   ],
   "source": [
    "#final submission file should be in a similar format as below:\n",
    "final_ex = pd.read_csv('sample submission.csv')\n",
    "final_ex"
   ]
  },
  {
   "cell_type": "code",
   "execution_count": null,
   "metadata": {},
   "outputs": [],
   "source": []
  },
  {
   "cell_type": "code",
   "execution_count": null,
   "metadata": {},
   "outputs": [],
   "source": []
  },
  {
   "cell_type": "code",
   "execution_count": null,
   "metadata": {},
   "outputs": [],
   "source": []
  },
  {
   "cell_type": "code",
   "execution_count": null,
   "metadata": {},
   "outputs": [],
   "source": []
  },
  {
   "cell_type": "code",
   "execution_count": null,
   "metadata": {},
   "outputs": [],
   "source": []
  },
  {
   "cell_type": "code",
   "execution_count": null,
   "metadata": {},
   "outputs": [],
   "source": []
  },
  {
   "cell_type": "code",
   "execution_count": null,
   "metadata": {},
   "outputs": [],
   "source": []
  },
  {
   "cell_type": "code",
   "execution_count": null,
   "metadata": {},
   "outputs": [],
   "source": []
  },
  {
   "cell_type": "code",
   "execution_count": null,
   "metadata": {},
   "outputs": [],
   "source": []
  },
  {
   "cell_type": "code",
   "execution_count": null,
   "metadata": {},
   "outputs": [],
   "source": []
  },
  {
   "cell_type": "code",
   "execution_count": null,
   "metadata": {},
   "outputs": [],
   "source": []
  },
  {
   "cell_type": "code",
   "execution_count": null,
   "metadata": {},
   "outputs": [],
   "source": []
  },
  {
   "cell_type": "code",
   "execution_count": null,
   "metadata": {},
   "outputs": [],
   "source": []
  }
 ],
 "metadata": {
  "kernelspec": {
   "display_name": "Python 3",
   "language": "python",
   "name": "python3"
  },
  "language_info": {
   "codemirror_mode": {
    "name": "ipython",
    "version": 3
   },
   "file_extension": ".py",
   "mimetype": "text/x-python",
   "name": "python",
   "nbconvert_exporter": "python",
   "pygments_lexer": "ipython3",
   "version": "3.8.5"
  }
 },
 "nbformat": 4,
 "nbformat_minor": 5
}
